{
 "cells": [
  {
   "cell_type": "code",
   "execution_count": 1,
   "metadata": {
    "collapsed": true
   },
   "outputs": [],
   "source": [
    ""
   ]
  },
  {
   "cell_type": "code",
   "execution_count": 3,
   "metadata": {},
   "outputs": [],
   "source": [
    "from pysb.macros import *"
   ]
  },
  {
   "cell_type": "code",
   "execution_count": 4,
   "metadata": {},
   "outputs": [],
   "source": [
    "from pysb import *"
   ]
  },
  {
   "cell_type": "code",
   "execution_count": 32,
   "metadata": {},
   "outputs": [
    {
     "data": {
      "image/png": "[encoded data removed]",
      "text/plain": [
       "<matplotlib.figure.Figure at 0xff88f98>"
      ]
     },
     "metadata": {},
     "output_type": "display_data"
    }
   ],
   "source": [
    "from scipy.constants import N_A\n",
    "\n",
    "Model()\n",
    "\n",
    "Monomer('cyclin', ['Y', 'b'], {'Y': ['U','P']})\n",
    "Monomer('cdc2', ['Y', 'b'], {'Y': ['U','P']})\n",
    "\n",
    "VOL = 1e-20\n",
    "NA_V = N_A*VOL\n",
    "\n",
    "Parameter('k1', 0.015*NA_V)\n",
    "Parameter('k2', 0)\n",
    "Parameter('k3', 200/NA_V)\n",
    "Parameter('k4', 2*180/NA_V/NA_V)\n",
    "Parameter('kp4', 0.018)\n",
    "Parameter('k5', 0)\n",
    "Parameter('k6', 1.0)\n",
    "Parameter('k7', 0.6)\n",
    "Parameter('k8', 1e6)\n",
    "Parameter('k9', 1e3)\n",
    "\n",
    "synthesize(cyclin(Y='U', b=None), k1)\n",
    "\n",
    "Rule('BindingAndPhosphoylation', cyclin(Y='U', b=None) + \n",
    "     cdc2(Y='P', b=None) >> \n",
    "     cyclin(Y='P', b=1) % cdc2(Y='P', b=1), k3)\n",
    "\n",
    "Rule('Activation', cyclin(Y='P', b=1) % cdc2(Y='P', b=1) >> \n",
    "     cyclin(Y='P', b=1) % cdc2(Y='U', b=1), kp4)\n",
    "\n",
    "Rule('Autocatalytic', cyclin(Y='P', b=1) % cdc2(Y='P', b=1) +\n",
    "     cyclin(Y='P', b=2) % cdc2(Y='U', b=2) +\n",
    "     cyclin(Y='P', b=2) % cdc2(Y='U', b=2) >>\n",
    "cyclin(Y='P', b=1) % cdc2(Y='U', b=1) +\n",
    "     cyclin(Y='P', b=2) % cdc2(Y='U', b=2) +\n",
    "     cyclin(Y='P', b=2) % cdc2(Y='U', b=2), k4)\n",
    "\n",
    "Rule('Dissociation', cyclin(Y='P', b=1) % cdc2(Y='U', b=1) >>\n",
    "     cdc2(Y='U', b=None), k6)\n",
    "\n",
    "equilibrate(cdc2(Y='U', b=None), cdc2(Y='P', b=None), [k8, k9])\n",
    "\n",
    "#Initial conditions\n",
    "Parameter(\"cdc_0\", 1 * NA_V)\n",
    "Initial(cdc2(Y='P', b=None), cdc_0)\n",
    "\n",
    "# [Y] in Tyson\n",
    "Parameter('cyc_0', 0.9 * NA_V)\n",
    "Initial(cyclin(Y='U', b=None), cyc_0)\n",
    "\n",
    "Observable('total_cyclin', cyclin()) \n",
    "Observable('active_cyclin', cyclin(b=1, Y='P') % cdc2(b=1, Y='U'))\n",
    "\n",
    "%matplotlib inline\n",
    "from pysb.integrate import odesolve\n",
    "from numpy import *\n",
    "import matplotlib.pyplot as plt\n",
    "\n",
    "t = linspace(0, 100, 10001)\n",
    "x = odesolve(model, t)\n",
    "\n",
    "plt.plot(t, x['total_cyclin'], lw=2, label='total_cyclin')\n",
    "plt.plot(t, x['active_cyclin'], lw=2, label='active_cyclin')\n",
    "\n",
    "plt.legend(loc=0)\n",
    "plt.xlabel('time')\n",
    "plt.ylabel('population')\n",
    "\n",
    "plt.show()\n",
    "\n"
   ]
  },
  {
   "cell_type": "code",
   "execution_count": 6,
   "metadata": {},
   "outputs": [],
   "source": []
  },
  {
   "cell_type": "code",
   "execution_count": 6,
   "metadata": {},
   "outputs": [],
   "source": []
  },
  {
   "cell_type": "code",
   "execution_count": null,
   "metadata": {},
   "outputs": [],
   "source": []
  }
 ],
 "metadata": {
  "kernelspec": {
   "display_name": "Python 2",
   "language": "python",
   "name": "python2"
  },
  "language_info": {
   "codemirror_mode": {
    "name": "ipython",
    "version": 2
   },
   "file_extension": ".py",
   "mimetype": "text/x-python",
   "name": "python",
   "nbconvert_exporter": "python",
   "pygments_lexer": "ipython2",
   "version": "2.7.6"
  }
 },
 "nbformat": 4,
 "nbformat_minor": 0
}
